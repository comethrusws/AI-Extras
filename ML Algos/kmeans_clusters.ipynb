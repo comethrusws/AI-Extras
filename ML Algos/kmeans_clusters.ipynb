{
 "cells": [
  {
   "cell_type": "code",
   "execution_count": null,
   "metadata": {},
   "outputs": [],
   "source": [
    "import numpy as np\n",
    "from sklearn.cluster import KMeans"
   ]
  },
  {
   "cell_type": "code",
   "execution_count": null,
   "metadata": {},
   "outputs": [],
   "source": [
    "#synthetic data\n",
    "np.random.seed(0)\n",
    "X = np.random.rand(100, 2) * 10\n",
    "\n",
    "#K-Means clustering\n",
    "kmeans = KMeans(n_clusters=3)\n",
    "clusters = kmeans.fit_predict(X)\n",
    "\n",
    "#view cluster centers\n",
    "print(f'Cluster centers:\\n{kmeans.cluster_centers_}')"
   ]
  }
 ],
 "metadata": {
  "language_info": {
   "name": "python"
  }
 },
 "nbformat": 4,
 "nbformat_minor": 2
}
